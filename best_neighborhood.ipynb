{
 "cells": [
  {
   "cell_type": "markdown",
   "metadata": {},
   "source": [
    "<h1>The Most Environmentally Healthy Neighborhood in Pittsburgh</h1>\n",
    "\n",
    "<h2>Introduction</h2>\n",
    "\n",
    "<p>Each neighborhood in Pittsburgh has its own unique appeal but most people can agree that the quality of the environment is a major contributing factor when considering a place to live. Not many people want to live next to a polluted river or breath in polluted air and so we figured that by examining the environmental factors of some Pittsburgh neighborhoods we could determine the best neighborhood in Pittsburgh as the one with the best environmental qualities. As sub-metrics we chose to look at air quality, illegal dump site locations, and _X_ quality. We chose these sub-metrics because they are key attributes to describing the overal environmental quality of any neighborhood.</p>"
   ]
  },
  {
   "cell_type": "markdown",
   "metadata": {},
   "source": [
    "<!-- Air Quality Data analyzed by: Brian Hutton -->\n",
    "<h3>Air Quality Data</h3>\n",
    "\n",
    "<p>To measure the quality of each neighborhoods air, I chose to look at their Air Quality Indexes (AQI's). The web database, AirNow (a partner with the US Environmental Protection Agency), reports official US Air Quality Indexes which are described as: <blockquote>A color-coded index designed to communicate whether air quality is healthy or unhealthy for you.</blockquote>Lower AQI values indicate better quality air while higher indexes indicate more air pollution and thus lower air quality. S</p>\n",
    "\n",
    "<h4><a href=\"https://www.airnow.gov/aqi/aqi-basics/\">AirNow's AQI Table</a></h4>\n",
    "<table>\n",
    "\t<tr>\n",
    "\t\t<th>Daily AQI Color</th>\n",
    "\t\t<th>Levels of Concern</th>\n",
    "\t\t<th>Values of Index</th>\n",
    "\t\t<th>Description of Air Quality</th>\n",
    "\t</tr>\n",
    "\t<tr style=\"background-color: #00e400;\">\n",
    "\t\t<td>Green</td>\n",
    "\t\t<td>Good</td>\n",
    "\t\t<td>0 to 50</td>\n",
    "\t\t<td>Air quality is satisfactory, and air pollution poses little or no risk.</td>\n",
    "\t</tr>\n",
    "\t<tr style=\"background-color: #ffff00;\">\n",
    "\t\t<td>Yellow</td>\n",
    "\t\t<td>Moderate</td>\n",
    "\t\t<td>51 to 100</td>\n",
    "\t\t<td>Air quality is acceptable. However, there may be a risk for some people, particularly those who are unusually sensitive to air pollution.</td>\n",
    "\t</tr>\n",
    "\t<tr style=\"background-color: #ff7e00; color: white;\">\n",
    "\t\t<td>Orange</td>\n",
    "\t\t<td>Unhealthy for Sensitive Groups</td>\n",
    "\t\t<td>101 to 150</td>\n",
    "\t\t<td>Members of sensitive groups may experience health effects. The general public is less likely to be affected.</td>\n",
    "\t</tr>\n",
    "\t<tr style=\"background-color: #ff0000; color: white;\">\n",
    "\t\t<td>Red</td>\n",
    "\t\t<td>Unhealthy</td>\n",
    "\t\t<td>151 to 200</td>\n",
    "\t\t<td>Some members of the general public may experience health effects; members of sensitive groups may experience more serious health effects.</td>\n",
    "\t</tr>\n",
    "\t<tr style=\"background-color: #8f3f97; color: white;\">\n",
    "\t\t<td>Purple</td>\n",
    "\t\t<td>Very Unhealthy</td>\n",
    "\t\t<td>201 to 300</td>\n",
    "\t\t<td>Health alert: The risk of health effects is increased for everyone.</td>\n",
    "\t</tr>\n",
    "\t<tr style=\"background-color: #7e0023; color: white;\">\n",
    "\t\t<td>Maroon</td>\n",
    "\t\t<td>Hazardous</td>\n",
    "\t\t<td>301 and higher</td>\n",
    "\t\t<td>Health warning of emergency conditions: everyone is more likely to be affected.</td>\n",
    "\t</tr>\n",
    "</table>\n",
    "<br>\n",
    "\n",
    "<h4><a href=\"https://data.wprdc.org/dataset/allegheny-county-air-quality/resource/4ab1e23f-3262-4bd3-adbf-f72f0119108b?inner_span=True\">AQI Data Source</a></h4>\n",
    "<p> The data set I used for Air Quality Indexes data came from the <a href=\"http://www.wprdc.org/\">Western Pennsylvania Regional Data Center</a>. The Western Pennsylvania Regional Data Center hosts many datasets gathered by public sector agencies, academic institutions, and non-profit organizations. Specifically, this <a href=\"https://data.wprdc.org/dataset/allegheny-county-air-quality/resource/4ab1e23f-3262-4bd3-adbf-f72f0119108b?inner_span=True\">data set</a> features air quality data collected from the Allegheny Health Department's air quality monitors which are placed in 15 different areas in Pittsburgh and its surrounding areas.</p>"
   ]
  },
  {
   "cell_type": "code",
   "execution_count": 3,
   "metadata": {},
   "outputs": [
    {
     "name": "stdout",
     "output_type": "stream",
     "text": [
      "Specifically the dataset I used contains air quality for the following 15 neighborhoods/regions:\n",
      "\n",
      "• Lawrenceville\n",
      "• Flag Plaza\n",
      "• Harrison Township\n",
      "• Avalon\n",
      "• Lincoln\n",
      "• South Fayette\n",
      "• North Braddock\n",
      "• Parkway East\n",
      "• Liberty 2\n",
      "• Lawrenceville 2\n",
      "• Glassport High Street\n",
      "• Liberty\n",
      "• Clairton\n",
      "• West Mifflin\n",
      "• Pittsburgh\n",
      "\n",
      " Among these fifteen neighborhoods, the average AQI(Air Quality Index) was 21.62\n",
      "\n",
      "Lawrenceville  =  38.13\n",
      "Flag Plaza  =  9.95\n",
      "Harrison Township  =  24.32\n",
      "Avalon  =  21.3\n",
      "Lincoln  =  35.11\n",
      "South Fayette  =  20.46\n",
      "North Braddock  =  18.02\n",
      "Parkway East  =  22.23\n",
      "Liberty 2  =  32.26\n",
      "Lawrenceville 2  =  3.12\n",
      "Glassport High Street  =  17.1\n",
      "Liberty  =  18.7\n",
      "Clairton  =  7.27\n",
      "West Mifflin  =  6.34\n",
      "Pittsburgh  =  28.62\n"
     ]
    },
    {
     "data": {
      "text/plain": [
       "<matplotlib.axes._subplots.AxesSubplot at 0x7f701d98d0d0>"
      ]
     },
     "execution_count": 3,
     "metadata": {},
     "output_type": "execute_result"
    },
    {
     "data": {
      "image/png": "[encoded data removed]",
      "text/plain": [
       "<Figure size 432x288 with 1 Axes>"
      ]
     },
     "metadata": {},
     "output_type": "display_data"
    }
   ],
   "source": [
    "# Air Quality data analyzed by: Brian Hutton\n",
    "\n",
    "import pandas as pd\n",
    "import numpy as np\n",
    "%matplotlib inline\n",
    "import matplotlib.pyplot as plt\n",
    "import geopandas\n",
    "\n",
    "# Read in AQI data file from WPRDC\n",
    "aqi_data = pd.read_csv(\"daily_aqi_data.csv\", index_col=\"date\", parse_dates=True)\n",
    "\n",
    "# Get list of neighborhoods in dataset\n",
    "neighborhood_names = aqi_data['site'].unique()\n",
    "print(\"Specifically the dataset I used contains air quality for the following {} neighborhoods/regions:\\n\".format(len(neighborhood_names)))\n",
    "\n",
    "# Print list of neighborhooods in dataset\n",
    "for neighborhood in neighborhood_names:\n",
    "    print(\"•\", neighborhood)\n",
    "    \n",
    "print(\"\\n Among these fifteen neighborhoods, the average AQI(Air Quality Index) was {0}\\n\".format(round(aqi_data['index_value'].mean(), 2)))\n",
    "\n",
    "# create a sub-dataset for each neighborhood\n",
    "neighborhood_sets = []\n",
    "for neighborhood in neighborhood_names:\n",
    "    neighborhood_sets.append(aqi_data[aqi_data['site'] == neighborhood])\n",
    "\n",
    "# we can index to a specific neighborhoods dataset by using the neighborhoods index in the neighborhood_names list\n",
    "# avg_aqi contains average air quality for each neighborhood\n",
    "avg_aqi = []\n",
    "for i in range(len(neighborhood_sets)):\n",
    "    avg = round(neighborhood_sets[i]['index_value'].sum() / len(neighborhood_sets[i]['index_value']),2)\n",
    "    avg_aqi.append(avg)\n",
    "    \n",
    "for i in range(len(neighborhood_names)):\n",
    "    print(neighborhood_names[i], \" = \", avg_aqi[i])\n",
    "    \n",
    "# Forming new simpler dataframe with just neighborhood names and their corresponding averages\n",
    "neighborhood_data = {\"Neighborhood\":neighborhood_names, \"Average AQI\":avg_aqi}\n",
    "avg_neighborhood_aqi = pd.DataFrame(neighborhood_data)\n",
    "\n",
    "# choosing style for plot\n",
    "# plt.style.available\n",
    "# plt.style.use('ggplot')\n",
    "plt.style.use('dark_background')\n",
    "\n",
    "# plotting average AQI data for each neighborhood\n",
    "avg_neighborhood_aqi.plot.barh(title=\"AVG AQI Data\", x=\"Neighborhood\", y=\"Average AQI\")\n",
    "# aqi_plot = avg_neighborhood_aqi.plot.bar(title=\"AVG AQI Data\", x=\"Neighborhood\", y=\"Average AQI\")\n",
    "\n",
    "# still need to add geopandas map"
   ]
  },
  {
   "cell_type": "markdown",
   "metadata": {},
   "source": [
    "<h3>Illegal Dump Site Data</h3>\n",
    "<p> ~~Aziz~~ add a description of what describing factors you chose to look at for Illegal Dump Site data</p>"
   ]
  },
  {
   "cell_type": "code",
   "execution_count": null,
   "metadata": {},
   "outputs": [],
   "source": [
    "# Aziz add the code you used to analyze your dataset, don't forget to upload the file you did analysis on"
   ]
  },
  {
   "cell_type": "markdown",
   "metadata": {},
   "source": [
    "<h3>Eric's Metric</h3>\n",
    "<p> ~~Eric~~ add a description of what describing factors you chose to look at for the metric you chose to analyze</p>"
   ]
  },
  {
   "cell_type": "code",
   "execution_count": 1,
   "metadata": {},
   "outputs": [],
   "source": [
    "# Eric add the code you used to analyze your dataset, don't forget to upload the file you did analysis on"
   ]
  },
  {
   "cell_type": "markdown",
   "metadata": {},
   "source": [
    "<h3>Resources</h3>\n",
    "<!-- everyone add the resources they used here -->\n",
    "<ul>\n",
    "    <li>Air Quality Dataset from: <a href=\"https://data.wprdc.org/dataset/allegheny-county-air-quality/resource/4ab1e23f-3262-4bd3-adbf-f72f0119108b?inner_span=True\">WPRDC</a></li>\n",
    "    <li><a href=\"https://www.airnow.gov/aqi/aqi-basics/\">Air Quality Information from AirNow</a></li>\n",
    "    <li>Aziz's resources</li>\n",
    "    <li>Eric's resources</li>\n",
    "</ul>"
   ]
  },
  {
   "cell_type": "code",
   "execution_count": null,
   "metadata": {},
   "outputs": [],
   "source": []
  }
 ],
 "metadata": {
  "kernelspec": {
   "display_name": "Python 3",
   "language": "python",
   "name": "python3"
  },
  "language_info": {
   "codemirror_mode": {
    "name": "ipython",
    "version": 3
   },
   "file_extension": ".py",
   "mimetype": "text/x-python",
   "name": "python",
   "nbconvert_exporter": "python",
   "pygments_lexer": "ipython3",
   "version": "3.8.3"
  }
 },
 "nbformat": 4,
 "nbformat_minor": 4
}
